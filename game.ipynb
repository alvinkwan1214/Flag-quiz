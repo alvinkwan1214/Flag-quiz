{
 "cells": [
  {
   "cell_type": "code",
   "execution_count": 1,
   "metadata": {},
   "outputs": [
    {
     "name": "stdout",
     "output_type": "stream",
     "text": [
      "There are 255 files in the folder.\n",
      "251\n",
      "{'AF': 'Afghanistan', 'AL': 'Albania', 'DZ': 'Algeria', 'AS': 'American Samoa', 'AD': 'Andorra', 'AO': 'Angola', 'AI': 'Anguilla', 'AQ': 'Antarctica', 'AG': 'Antigua and Barbuda', 'AR': 'Argentina', 'AM': 'Armenia', 'AW': 'Aruba', 'AU': 'Australia', 'AT': 'Austria', 'AZ': 'Azerbaijan', 'BS': 'Bahamas', 'BH': 'Bahrain', 'BD': 'Bangladesh', 'BB': 'Barbados', 'BY': 'Belarus', 'BE': 'Belgium', 'BZ': 'Belize', 'BJ': 'Benin', 'BM': 'Bermuda', 'BT': 'Bhutan', 'BO': 'Bolivia, Plurinational State of', 'BQ': 'Bonaire, Sint Eustatius and Saba', 'BA': 'Bosnia and Herzegovina', 'BW': 'Botswana', 'BV': 'Bouvet Island', 'BR': 'Brazil', 'IO': 'British Indian Ocean Territory', 'BN': 'Brunei Darussalam', 'BG': 'Bulgaria', 'BF': 'Burkina Faso', 'BI': 'Burundi', 'KH': 'Cambodia', 'CM': 'Cameroon', 'CA': 'Canada', 'CV': 'Cape Verde', 'KY': 'Cayman Islands', 'CF': 'Central African Republic', 'TD': 'Chad', 'CL': 'Chile', 'CN': 'China', 'CX': 'Christmas Island', 'CC': 'Cocos (Keeling) Islands', 'CO': 'Colombia', 'KM': 'Comoros', 'CG': 'Congo', 'CD': 'Congo, the Democratic Republic of the', 'CK': 'Cook Islands', 'CR': 'Costa Rica', 'HR': 'Croatia', 'CU': 'Cuba', 'CW': 'Curaçao', 'CY': 'Cyprus', 'CZ': 'Czech Republic', 'CI': \"Côte d'Ivoire\", 'DK': 'Denmark', 'DJ': 'Djibouti', 'DM': 'Dominica', 'DO': 'Dominican Republic', 'EC': 'Ecuador', 'EG': 'Egypt', 'SV': 'El Salvador', 'GQ': 'Equatorial Guinea', 'ER': 'Eritrea', 'EE': 'Estonia', 'SZ': 'Eswatini', 'ET': 'Ethiopia', 'FK': 'Falkland Islands (Malvinas)', 'FO': 'Faroe Islands', 'FJ': 'Fiji', 'FI': 'Finland', 'FR': 'France', 'GF': 'French Guiana', 'PF': 'French Polynesia', 'TF': 'French Southern Territories', 'GA': 'Gabon', 'GM': 'Gambia', 'GE': 'Georgia', 'DE': 'Germany', 'GH': 'Ghana', 'GI': 'Gibraltar', 'GR': 'Greece', 'GL': 'Greenland', 'GD': 'Grenada', 'GP': 'Guadeloupe', 'GU': 'Guam', 'GT': 'Guatemala', 'GG': 'Guernsey', 'GN': 'Guinea', 'GW': 'Guinea-Bissau', 'GY': 'Guyana', 'HT': 'Haiti', 'HM': 'Heard Island and McDonald Islands', 'VA': 'Holy See (Vatican City State)', 'HN': 'Honduras', 'HK': 'Hong Kong', 'HU': 'Hungary', 'IS': 'Iceland', 'IN': 'India', 'ID': 'Indonesia', 'IR': 'Iran, Islamic Republic of', 'IQ': 'Iraq', 'IE': 'Ireland', 'IM': 'Isle of Man', 'IL': 'Israel', 'IT': 'Italy', 'JM': 'Jamaica', 'JP': 'Japan', 'JE': 'Jersey', 'JO': 'Jordan', 'KZ': 'Kazakhstan', 'KE': 'Kenya', 'KI': 'Kiribati', 'KP': \"Korea, Democratic People's Republic of\", 'KR': 'Korea, Republic of', 'KW': 'Kuwait', 'KG': 'Kyrgyzstan', 'LA': \"Lao People's Democratic Republic\", 'LV': 'Latvia', 'LB': 'Lebanon', 'LS': 'Lesotho', 'LR': 'Liberia', 'LY': 'Libya', 'LI': 'Liechtenstein', 'LT': 'Lithuania', 'LU': 'Luxembourg', 'MO': 'Macao', 'MK': 'Macedonia, the Former Yugoslav Republic of', 'MG': 'Madagascar', 'MW': 'Malawi', 'MY': 'Malaysia', 'MV': 'Maldives', 'ML': 'Mali', 'MT': 'Malta', 'MH': 'Marshall Islands', 'MQ': 'Martinique', 'MR': 'Mauritania', 'MU': 'Mauritius', 'YT': 'Mayotte', 'MX': 'Mexico', 'FM': 'Micronesia, Federated States of', 'MD': 'Moldova, Republic of', 'MC': 'Monaco', 'MN': 'Mongolia', 'ME': 'Montenegro', 'MS': 'Montserrat', 'MA': 'Morocco', 'MZ': 'Mozambique', 'MM': 'Myanmar', nan: 'Namibia', 'NR': 'Nauru', 'NP': 'Nepal', 'NL': 'Netherlands', 'NC': 'New Caledonia', 'NZ': 'New Zealand', 'NI': 'Nicaragua', 'NE': 'Niger', 'NG': 'Nigeria', 'NU': 'Niue', 'NF': 'Norfolk Island', 'MP': 'Northern Mariana Islands', 'NO': 'Norway', 'OM': 'Oman', 'PK': 'Pakistan', 'PW': 'Palau', 'PS': 'Palestine, State of', 'PA': 'Panama', 'PG': 'Papua New Guinea', 'PY': 'Paraguay', 'PE': 'Peru', 'PH': 'Philippines', 'PN': 'Pitcairn', 'PL': 'Poland', 'PT': 'Portugal', 'PR': 'Puerto Rico', 'QA': 'Qatar', 'RO': 'Romania', 'RU': 'Russian Federation', 'RW': 'Rwanda', 'RE': 'Réunion', 'BL': 'Saint Barthélemy', 'SH': 'Saint Helena, Ascension and Tristan da Cunha', 'KN': 'Saint Kitts and Nevis', 'LC': 'Saint Lucia', 'MF': 'Saint Martin (French part)', 'PM': 'Saint Pierre and Miquelon', 'VC': 'Saint Vincent and the Grenadines', 'WS': 'Samoa', 'SM': 'San Marino', 'ST': 'Sao Tome and Principe', 'SA': 'Saudi Arabia', 'SN': 'Senegal', 'RS': 'Serbia', 'SC': 'Seychelles', 'SL': 'Sierra Leone', 'SG': 'Singapore', 'SX': 'Sint Maarten (Dutch part)', 'SK': 'Slovakia', 'SI': 'Slovenia', 'SB': 'Solomon Islands', 'SO': 'Somalia', 'ZA': 'South Africa', 'GS': 'South Georgia and the South Sandwich Islands', 'SS': 'South Sudan', 'ES': 'Spain', 'LK': 'Sri Lanka', 'SD': 'Sudan', 'SR': 'Suriname', 'SJ': 'Svalbard and Jan Mayen', 'SE': 'Sweden', 'CH': 'Switzerland', 'SY': 'Syrian Arab Republic', 'TW': 'Taiwan, Province of China', 'TJ': 'Tajikistan', 'TZ': 'Tanzania, United Republic of', 'TH': 'Thailand', 'TL': 'Timor-Leste', 'TG': 'Togo', 'TK': 'Tokelau', 'TO': 'Tonga', 'TT': 'Trinidad and Tobago', 'TN': 'Tunisia', 'TR': 'Turkey', 'TM': 'Turkmenistan', 'TC': 'Turks and Caicos Islands', 'TV': 'Tuvalu', 'UG': 'Uganda', 'UA': 'Ukraine', 'AE': 'United Arab Emirates', 'GB': 'United Kingdom', 'US': 'United States', 'UM': 'United States Minor Outlying Islands', 'UY': 'Uruguay', 'UZ': 'Uzbekistan', 'VU': 'Vanuatu', 'VE': 'Venezuela, Bolivarian Republic of', 'VN': 'Viet Nam', 'VG': 'Virgin Islands, British', 'VI': 'Virgin Islands, U.S.', 'WF': 'Wallis and Futuna', 'EH': 'Western Sahara', 'YE': 'Yemen', 'ZM': 'Zambia', 'ZW': 'Zimbabwe', 'AX': 'Åland Islands', ' XK': 'Kosovo', ' GB-NIR': 'Northern Ireland'}\n"
     ]
    }
   ],
   "source": [
    "import pandas as pd\n",
    "import os\n",
    "from IPython.display import SVG, display\n",
    "import random\n",
    "from IPython.display import SVG, display, clear_output\n",
    "import time\n",
    "\n",
    "folder_path = \"flags\"  # Change to your folder path\n",
    "file_count = len([f for f in os.listdir(folder_path) if os.path.isfile(os.path.join(folder_path, f))])\n",
    "print(f\"There are {file_count} files in the folder.\")\n",
    "data = pd.read_csv('names.csv')\n",
    "print(len(data))\n",
    "country_dict = data.set_index('Code')['Name'].to_dict()\n",
    "print(country_dict)\n",
    "folder_path = \"flags\"\n",
    "\n",
    "# List all SVG files in the folder\n",
    "svg_files = [f for f in os.listdir(folder_path) if f.endswith('.svg')]"
   ]
  },
  {
   "cell_type": "code",
   "execution_count": 50,
   "metadata": {},
   "outputs": [],
   "source": [
    "def selected_images(num_images):\n",
    "    if len(svg_files) < num_images:\n",
    "        print(\"Not enough SVG files in the folder.\")\n",
    "    else:\n",
    "        # Randomly select 5 unique SVG files\n",
    "        selected_svgs = random.sample(svg_files, num_images)\n",
    "        return selected_svgs\n",
    "    \n",
    "\n",
    "def special_cases(user_answer, correct_answer):\n",
    "    # Special cases\n",
    "    if user_answer.lower() == \"usa\":\n",
    "        user_answer = \"United States\"\n",
    "    if user_answer.lower() == \"uk\":\n",
    "        user_answer = \"United Kingdom\"\n",
    "    if user_answer.lower() == \"uae\":    \n",
    "        user_answer = \"United Arab Emirates\"\n",
    "    if user_answer.lower() == \"vatcain\":    \n",
    "        user_answer = \"Holy See (Vatican City State)\"\n",
    "    if user_answer.lower() == \"DRC\":\n",
    "        user_answer = \"Congo, the Democratic Republic of the\"\n",
    "    if user_answer.lower() == \"east timor\":\n",
    "        user_answer = \"Timor-Leste\"\n",
    "    if user_answer.lower() == \"ivory coast\":\n",
    "        user_answer = \"Côte d'Ivoire\"\n",
    "    if user_answer.lower() == \"north macedonia\":\n",
    "        user_answer = \"Macedonia, the former Yugoslav Republic of\"\n",
    "    if user_answer.lower() == \"moldova\":\n",
    "        user_answer = \"Moldova, Republic of\"\n",
    "    if user_answer.lower() == \"russia\":\n",
    "        user_answer = \"Russian Federation\"\n",
    "    if user_answer.lower() == \"south korea\":\n",
    "        user_answer = \"Korea, Republic of\"\n",
    "    if user_answer.lower() == \"syria\":\n",
    "        user_answer = \"Syrian Arab Republic\"\n",
    "    if user_answer.lower() == \"taiwan\":\n",
    "        user_answer = \"Taiwan, Province of China\"\n",
    "    if user_answer.lower() == \"tanzania\":\n",
    "        user_answer = \"Tanzania, United Republic of\"\n",
    "    if user_answer.lower() == \"palenstine\":\n",
    "        user_answer = \"Palestine, State of\"\n",
    "    if user_answer.lower() == \"venezuela\":\n",
    "        user_answer = \"Venezuela, Bolivarian Republic of\"\n",
    "    if user_answer.lower() == \"virgin islands\":\n",
    "        user_answer = \"Virgin Islands, British\"\n",
    "    if user_answer.lower() == \"laos\":\n",
    "        user_answer = \"Lao People's Democratic Republic\"\n",
    "    return user_answer"
   ]
  },
  {
   "cell_type": "code",
   "execution_count": 47,
   "metadata": {},
   "outputs": [],
   "source": [
    "def game(num_images):\n",
    "    selected_svgs = selected_images(num_images)\n",
    "    score = 0\n",
    "    total = len(selected_svgs)\n",
    "    start_time = time.time()\n",
    "    i = 1\n",
    "    while i < len(selected_svgs) + 1:\n",
    "        clear_output(wait=True)\n",
    "        print(f\"Displaying Flag {i}:\")\n",
    "        display(SVG(os.path.join(folder_path, selected_svgs[i-1])))\n",
    "        \n",
    "        # Prompt the user for the country name\n",
    "        user_answer = input(f\"Enter the country name for Flag {i}: \")\n",
    "        print(f\"You entered: {user_answer}\\n\")\n",
    "\n",
    "        if selected_svgs[i-1][:-4] == \"NA\":\n",
    "            correct_answer = \"Namibia\"\n",
    "        else:\n",
    "            correct_answer = country_dict[selected_svgs[i-1][:-4].upper()]\n",
    "        \n",
    "        user_answer = special_cases(user_answer, correct_answer)\n",
    "        if user_answer.lower() == correct_answer.lower():\n",
    "            print(\"Correct! Moving to the next flag...\\n\")\n",
    "            score += 1\n",
    "            i += 1\n",
    "            continue \n",
    "        elif user_answer.lower() == \"skip\":\n",
    "            print(f\"The correct answer is: {correct_answer}\\n\")\n",
    "            print(\"Moving to the next flag...\\n\")\n",
    "            i += 1\n",
    "            continue\n",
    "        elif user_answer.lower() == \"hint\":\n",
    "            print(f\"The first letter of the country name is: {selected_svgs[i-1][:-4].upper()}\")\n",
    "            time.sleep(2)\n",
    "\n",
    "        elif user_answer.lower() == \"exit\":\n",
    "            print(f\"The correct answer is: {correct_answer}\\n\")\n",
    "            print(f\"Game Over! Your final score is {score}\")\n",
    "            end = time.time()\n",
    "            break\n",
    "\n",
    "    end = time.time()\n",
    "\n",
    "    print(f\"Congratulations! You have completed the game. Your final score is {score}.\")\n",
    "    print(f\"Total time taken: {end - start_time:.2f} seconds\")"
   ]
  },
  {
   "cell_type": "code",
   "execution_count": 51,
   "metadata": {},
   "outputs": [
    {
     "name": "stdout",
     "output_type": "stream",
     "text": [
      "Displaying Flag 4:\n"
     ]
    },
    {
     "data": {
      "image/svg+xml": [
       "<svg xmlns=\"http://www.w3.org/2000/svg\" viewBox=\"0 0 6 4\"><path fill=\"#ce1126\" d=\"M0 0h6v4H0z\"/><path fill=\"#002868\" d=\"M0 1h6v2H0z\"/><circle fill=\"#fff\" cx=\"3\" cy=\"2\" r=\".8\"/></svg>"
      ],
      "text/plain": [
       "<IPython.core.display.SVG object>"
      ]
     },
     "metadata": {},
     "output_type": "display_data"
    },
    {
     "name": "stdout",
     "output_type": "stream",
     "text": [
      "You entered: exit\n",
      "\n",
      "The correct answer is: Lao People's Democratic Republic\n",
      "\n",
      "Game Over! Your final score is 3\n",
      "Congratulations! You have completed the game. Your final score is 3.\n",
      "Total time taken: 53.82 seconds\n"
     ]
    }
   ],
   "source": [
    "game(50)"
   ]
  },
  {
   "cell_type": "markdown",
   "metadata": {},
   "source": []
  }
 ],
 "metadata": {
  "kernelspec": {
   "display_name": "base",
   "language": "python",
   "name": "python3"
  },
  "language_info": {
   "codemirror_mode": {
    "name": "ipython",
    "version": 3
   },
   "file_extension": ".py",
   "mimetype": "text/x-python",
   "name": "python",
   "nbconvert_exporter": "python",
   "pygments_lexer": "ipython3",
   "version": "3.12.4"
  }
 },
 "nbformat": 4,
 "nbformat_minor": 2
}
